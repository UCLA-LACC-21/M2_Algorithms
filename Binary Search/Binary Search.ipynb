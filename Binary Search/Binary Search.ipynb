{
 "cells": [
  {
   "cell_type": "markdown",
   "metadata": {},
   "source": [
    "## Binary Search Example\n"
   ]
  },
  {
   "cell_type": "markdown",
   "metadata": {},
   "source": [
    "Source: https://leetcode.com/problems/binary-search/ <br>\n",
    "\n",
    "Given a sorted (in ascending order) integer array nums of n elements and a target value, write a function to search target in nums. If target exists, then return its index, otherwise return -1. <br>\n",
    "\n",
    "Example 1<br>\n",
    "\n",
    "Input: nums = [-1,0,3,5,9,12], target = 9 <br>\n",
    "Output: 4 <br>\n",
    "Explanation: 9 exists in nums and its index is 4 <br>\n",
    "\n",
    "Example 2<br>\n",
    "\n",
    "Input: nums = [-1,0,3,5,9,12], target = 2<br>\n",
    "Output: -1<br>\n",
    "Explanation: 2 does not exist in nums so return -1 <br>"
   ]
  },
  {
   "cell_type": "code",
   "execution_count": null,
   "metadata": {},
   "outputs": [],
   "source": [
    "def search(nums, target):\n",
    "    \"\"\"\n",
    "    :type nums: List[int]\n",
    "    :type target: int\n",
    "    :rtype: int\n",
    "    \"\"\"\n",
    "    low = 0\n",
    "    high = len(nums) - 1\n",
    "    mid = int((low + high)/2)\n",
    "\n",
    "    # Corner Case: What if a list is empty or contains only one element?\n",
    "    #################################\n",
    "    \n",
    "    # Your code here.\n",
    "    \n",
    "    #################################\n",
    "\n",
    "    while low + 1 < high:  # We stop iterating if the low and high index come together\n",
    "        #################################\n",
    "\n",
    "        # Your code here.\n",
    "\n",
    "        #################################\n",
    "\n",
    "   \n",
    "    if nums[low] == target:\n",
    "        return low\n",
    "\n",
    "    if nums[high] == target:\n",
    "        return high\n",
    "    \n",
    "    return -1  # if nothing found"
   ]
  },
  {
   "cell_type": "code",
   "execution_count": null,
   "metadata": {},
   "outputs": [],
   "source": [
    "# Test Case：\n",
    "nums = [-1,0,3,5,9,12]\n",
    "target = 9"
   ]
  },
  {
   "cell_type": "code",
   "execution_count": null,
   "metadata": {},
   "outputs": [],
   "source": [
    "print(search(nums, target))"
   ]
  }
 ],
 "metadata": {
  "kernelspec": {
   "display_name": "Python 3",
   "language": "python",
   "name": "python3"
  },
  "language_info": {
   "codemirror_mode": {
    "name": "ipython",
    "version": 3
   },
   "file_extension": ".py",
   "mimetype": "text/x-python",
   "name": "python",
   "nbconvert_exporter": "python",
   "pygments_lexer": "ipython3",
   "version": "3.7.6"
  }
 },
 "nbformat": 4,
 "nbformat_minor": 4
}
