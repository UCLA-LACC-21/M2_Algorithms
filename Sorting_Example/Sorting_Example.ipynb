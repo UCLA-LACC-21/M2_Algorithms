{
 "cells": [
  {
   "cell_type": "markdown",
   "metadata": {},
   "source": [
    "# Bubble Sort and Comparison to Python Sorting Algorithm\n",
    "\n",
    "In this exercise we will implement the bubble sort algorithm, analyze it's performance, and compare its performance with Python's built-in algorithm.\n",
    "\n",
    "First, import the modules we need:"
   ]
  },
  {
   "cell_type": "code",
   "execution_count": 1,
   "metadata": {},
   "outputs": [],
   "source": [
    "import functions\n",
    "import sys\n",
    "import re\n",
    "import math\n",
    "import random\n",
    "import time\n",
    "\n",
    "#Reload modules automatically so that we don't need to restart the notebook\n",
    "%load_ext autoreload\n",
    "%autoreload 2"
   ]
  },
  {
   "cell_type": "markdown",
   "metadata": {},
   "source": [
    "Then implement the bubbleSort() function in functions.py:"
   ]
  },
  {
   "cell_type": "markdown",
   "metadata": {},
   "source": [
    "After we finished implementing bubbleSort(), run the next cell. It creates a list of 20 numbers in random order, sorts them using out bubble sort algorithm, and then prints the result."
   ]
  },
  {
   "cell_type": "code",
   "execution_count": 6,
   "metadata": {},
   "outputs": [
    {
     "name": "stdout",
     "output_type": "stream",
     "text": [
      "List before sorting: [4, 8, 5, 18, 1, 17, 0, 15, 6, 19, 9, 3, 7, 10, 16, 12, 2, 11, 13, 14, 20]\n",
      "List after sorting: [0, 1, 2, 3, 4, 5, 6, 7, 8, 9, 10, 11, 12, 13, 14, 15, 16, 17, 18, 19, 20]\n"
     ]
    }
   ],
   "source": [
    "N = 20\n",
    "numbers = list(range(0, N+1))\n",
    "\n",
    "# randomly shuffle the numbers\n",
    "random.shuffle(numbers)\n",
    "print('List before sorting: ' + str(numbers))\n",
    "numbers = functions.mySort(numbers)   \n",
    "print('List after sorting: ' + str(numbers))"
   ]
  },
  {
   "cell_type": "markdown",
   "metadata": {},
   "source": [
    "Python has a sort function, that does not use Bubble sort. Let's compare their performance.\n",
    "\n",
    "We want to run both algorithms (our Bubble sort and Python sort), on different list sizes (6000: 26000 in increments of 2000) . In each run, we measure the runtime.\n",
    "\n",
    "First, specify the list size:"
   ]
  },
  {
   "cell_type": "code",
   "execution_count": null,
   "metadata": {},
   "outputs": [],
   "source": [
    "N = input(\"Enter N: \")\n",
    "print (\"N= %s\"%N)\n",
    "M = int(N)\n",
    "numbers = list(range(0, M+1))"
   ]
  },
  {
   "cell_type": "markdown",
   "metadata": {},
   "source": [
    "Then run both sorting algorithms, and compare the runtime."
   ]
  },
  {
   "cell_type": "code",
   "execution_count": null,
   "metadata": {},
   "outputs": [],
   "source": [
    "# randomly shuffle the numbers\n",
    "random.shuffle(numbers)\n",
    "numbersCopy=list(numbers)\n",
    "#sv.updateData(numbers)\n",
    "print (\"Python sort uses the TimSort algorithm https://en.wikipedia.org/wiki/Timsort\")\n",
    "pythonSortStartTime=time.time();\n",
    "numbersCopy.sort()\n",
    "print(\"--- %.9f seconds ---\" % (time.time() - pythonSortStartTime))\n",
    "print(\"Python sort is done!\\n\")\n",
    "bubbleStartTime=time.time();\n",
    "numbersBubble = functions.mySort(numbers)\n",
    "print(\"--- %.9f seconds ---\" % (time.time() - bubbleStartTime))\n",
    "print(\"Bubble sort is done!\\n\")\n",
    "cmpRes=functions.cmp(numbers,numbersCopy)\n",
    "if cmpRes == 0:\n",
    "    print (\"After sorting both lists are identical\")\n",
    "else:\n",
    "    print (\"The two sorted lists are DIFFERENT!!\")"
   ]
  }
 ],
 "metadata": {
  "kernelspec": {
   "display_name": "Python 3",
   "language": "python",
   "name": "python3"
  },
  "language_info": {
   "codemirror_mode": {
    "name": "ipython",
    "version": 3
   },
   "file_extension": ".py",
   "mimetype": "text/x-python",
   "name": "python",
   "nbconvert_exporter": "python",
   "pygments_lexer": "ipython3",
   "version": "3.8.8"
  }
 },
 "nbformat": 4,
 "nbformat_minor": 2
}
