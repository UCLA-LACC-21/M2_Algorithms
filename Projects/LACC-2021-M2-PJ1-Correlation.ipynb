{
 "cells": [
  {
   "cell_type": "code",
   "execution_count": null,
   "id": "538e19ac",
   "metadata": {},
   "outputs": [],
   "source": [
    "# Set up imports\n",
    "import numpy as np\n",
    "from scipy import signal\n",
    "from scipy import misc\n",
    "from tqdm import tqdm\n",
    "import time\n",
    "import matplotlib.pyplot as plt"
   ]
  },
  {
   "attachments": {},
   "cell_type": "markdown",
   "id": "0b8a4919",
   "metadata": {},
   "source": [
    "### 2d cross correlation - an overview\n",
    "\n",
    "Cross correlation is a technique for comparing two different pieces of data, and seeing how well they match up.  For example, if we have two images, we can use cross correlation to determine how close two images are.\n",
    "\n",
    "As you might be aware, images are 2d arrays of values, where each value encodes the color value.  So one way we can see if one image occurs in another, is by checking how close the values between images are.  The way we check the 'closeness' is by calculating the correlation between two images.  In this case, we want to see if one image is contained in another.\n",
    "\n",
    "![9.png](https://i.loli.net/2021/07/14/AWPrDcxRemqNYUf.png)\n",
    "![10.png](https://i.loli.net/2021/07/14/xPi8ZfgsWXAHEbK.png)\n",
    "\n",
    "In the above example, we want to find where the yellow image occurs in the gray image.  That means we have to scan across the gray image, and calculate the correlation at almost every location to see where it occurs.  We can calculate correlation by performing element-wise multiplication between the two images, and summing them together.  Larger values indicate higher correlation, lower values indicate lower correlation.  This doesn't always work perfectly (correlation biased towards larger pixel values), but it suffices for our examples.\n",
    "\n",
    "\n",
    "![11.png](https://i.loli.net/2021/07/14/dFTGrU4wqeY8HOx.png)\n",
    "The above equation is just the mathematical way of representing the correlation calculation at each position in the larger image."
   ]
  },
  {
   "cell_type": "markdown",
   "id": "27da8177",
   "metadata": {},
   "source": [
    "#### Problem: Finding the Racoon's right eye\n",
    "In this problem, we have two images.  The first is an image of a raccoon, and the second is of the raccoon's right eye.  We want to identify where in the image this eye occurs."
   ]
  },
  {
   "cell_type": "code",
   "execution_count": null,
   "id": "c67ab8d0",
   "metadata": {},
   "outputs": [],
   "source": [
    "# Get the images of the raccoon and its eye\n",
    "face = misc.face(gray=True) - misc.face(gray=True).mean()\n",
    "template = np.copy(face[300:365, 670:750])  # right eye\n",
    "template -= template.mean()\n",
    "\n",
    "# Plot the images\n",
    "fig, (ax_orig, ax_template) = plt.subplots(1, 2,\n",
    "                                                    figsize=(15, 30))\n",
    "ax_orig.imshow(face, cmap='gray')\n",
    "\n",
    "ax_orig.set_title('Original Image')\n",
    "\n",
    "ax_orig.set_axis_off()\n",
    "\n",
    "ax_template.imshow(template, cmap='gray')\n",
    "\n",
    "ax_template.set_title('Target Image')\n",
    "\n",
    "ax_template.set_axis_off()\n",
    "\n",
    "fig.show()"
   ]
  },
  {
   "cell_type": "markdown",
   "id": "952858c0",
   "metadata": {},
   "source": [
    "### 2d correlation from 3rd party library\n",
    "\n",
    "Scipy, a 3rd party Python library, already has a method for performing cross correlation on images.  You can see the results below.  Though it's kind of small, the white values indicate the regions with highest correlation."
   ]
  },
  {
   "cell_type": "code",
   "execution_count": null,
   "id": "24e25600",
   "metadata": {},
   "outputs": [],
   "source": [
    "# Use the 3rd party function for performing correlation\n",
    "tstart = time.time()\n",
    "corr = signal.correlate2d(face, template, mode='valid')\n",
    "print(\"Running Time: %f seconds\" % (time.time() - tstart))\n",
    "\n",
    "# Plot where the on the face we find the maximum correlation (shown as whitest region)\n",
    "y, x = np.unravel_index(np.argmax(corr), corr.shape)\n",
    "import matplotlib.pyplot as plt\n",
    "\n",
    "fig, (ax_orig, ax_corr) = plt.subplots(1, 2,\n",
    "\n",
    "                                                    figsize=(15, 30))\n",
    "ax_orig.imshow(face, cmap='gray')\n",
    "\n",
    "ax_orig.set_title('Original')\n",
    "\n",
    "ax_orig.set_axis_off()\n",
    "\n",
    "ax_corr.imshow(corr, cmap='gray')\n",
    "\n",
    "ax_corr.set_title('3rd party Cross-correlation')\n",
    "\n",
    "ax_corr.set_axis_off()\n",
    "\n",
    "ax_orig.plot(x, y, 'ro')\n",
    "\n",
    "fig.show()"
   ]
  },
  {
   "cell_type": "markdown",
   "id": "b81df282",
   "metadata": {},
   "source": [
    "### 2d correlation - your turn!\n",
    "\n",
    "Now you will try out performing this correlation calculation.  Keep in mind that your result correlation matrix should be smaller than the face matrix.  If this point is confusing, think of it like this: let's say you have two of the yellow matrices as shown in the overview.  If you calculated the correlation for these two matrices, you would only get 1 value, even though the matrices are both 3x3.  \n",
    "\n",
    "However, let's say you now want to calculate the correlation between the yellow matrix (3x3) and the larger gray matrix (9x9).  That means that you will end up with a 7x7 correlation grid.  Why? This is because you are calculating a correlation for every 3x3 matrix that you can fit inside that gray matrix.  For example, ask yourself this question: how many 3x3 matrices can we fit by sliding them left to right on the gray matrix?  7 right?  Similarly, you can do the same intuitive experiment when you slide them up and down and end up with 7 matrices again.  That means you can fit 7x7 yellow matrices inside the gray matrix, and that's how many correlation values you get. "
   ]
  },
  {
   "cell_type": "code",
   "execution_count": null,
   "id": "ec14d84c",
   "metadata": {},
   "outputs": [],
   "source": [
    "def multiply_sum(x1, x2):\n",
    "    \"\"\"Performs element wise multiplication for both matrices\n",
    "\n",
    "    Args:\n",
    "      x1: a numpy 2d matrix of the same size as the template (65, 80)\n",
    "      x2: a numpy 2d matrix, which is the same shape as x1\n",
    "\n",
    "    Returns:\n",
    "      A single value representing the element-wise product, summed together.\n",
    "\n",
    "    \"\"\"\n",
    "    \n",
    "    #####################################\n",
    "\n",
    "    #  Insert your code here!\n",
    "\n",
    "    #####################################\n",
    "\n",
    "\n",
    "\n",
    "def correlation_2d(face, template):    \n",
    "    \"\"\"Performs cross correlation between the 2d face matrix and the template\n",
    "        The key here is that we must calculate the 'multiply_sum' function\n",
    "        many times, so that we get a grid of correlation values.\n",
    "        Basically, calculate the correlation for every template that you can fit in the face matrix.\n",
    "\n",
    "    Args:\n",
    "      face: a large 2d matrix, of size (768, 1024)\n",
    "      template: a subimage of the face matrix (65,80)\n",
    "\n",
    "    Returns:\n",
    "        A 2d matrix of correlation values ( should be of size (704,945) )\n",
    "\n",
    "    \"\"\"\n",
    "    \n",
    "    #####################################\n",
    "    \n",
    "    #  Insert your code here!\n",
    "    \n",
    "    #####################################\n",
    "    \n",
    "\n",
    "result = correlation_2d(face, template)"
   ]
  },
  {
   "cell_type": "code",
   "execution_count": null,
   "id": "e01c7f01",
   "metadata": {},
   "outputs": [],
   "source": [
    "y, x = np.unravel_index(np.argmax(result), result.shape)  # find the match\n",
    "import matplotlib.pyplot as plt\n",
    "\n",
    "fig, (ax_orig, ax_result) = plt.subplots(1, 2,\n",
    "\n",
    "                                                    figsize=(15, 30))\n",
    "ax_orig.imshow(face, cmap='gray')\n",
    "\n",
    "ax_orig.set_title('Original')\n",
    "\n",
    "ax_orig.set_axis_off()\n",
    "\n",
    "ax_result.imshow(result, cmap='gray')\n",
    "\n",
    "ax_result.set_title('Our Cross-correlation')\n",
    "\n",
    "ax_result.set_axis_off()\n",
    "\n",
    "ax_orig.plot(x, y, 'ro')\n",
    "\n",
    "fig.show()"
   ]
  },
  {
   "cell_type": "code",
   "execution_count": null,
   "id": "4b3ea385",
   "metadata": {},
   "outputs": [],
   "source": []
  }
 ],
 "metadata": {
  "kernelspec": {
   "display_name": "Python 3",
   "language": "python",
   "name": "python3"
  },
  "language_info": {
   "codemirror_mode": {
    "name": "ipython",
    "version": 3
   },
   "file_extension": ".py",
   "mimetype": "text/x-python",
   "name": "python",
   "nbconvert_exporter": "python",
   "pygments_lexer": "ipython3",
   "version": "3.8.8"
  }
 },
 "nbformat": 4,
 "nbformat_minor": 5
}
