{
 "cells": [
  {
   "cell_type": "code",
   "execution_count": 1,
   "id": "4703f392",
   "metadata": {},
   "outputs": [],
   "source": [
    "class book(): # object oriented programming\n",
    "    def __init__(self, Title=None, Author = None, Status=1, Year=None):\n",
    "        self.Title = Title\n",
    "        self.Author = Author\n",
    "        self.Status = Status\n",
    "        self.Year = Year\n",
    "        \n",
    "    def check_out(self):\n",
    "        if self.Status == 1:\n",
    "            self.Status = 0\n",
    "        else:\n",
    "            print(\"No in stock.\")\n",
    "            \n",
    "    def returning(self):\n",
    "        self.Status = 1"
   ]
  },
  {
   "cell_type": "code",
   "execution_count": 2,
   "id": "924ee4fa",
   "metadata": {},
   "outputs": [],
   "source": [
    "book1 = book(Title=\"Gone with the Wind\", Author=\"Margaret Mitchell\", Year=1937)"
   ]
  },
  {
   "cell_type": "code",
   "execution_count": 3,
   "id": "f7f0c25b",
   "metadata": {},
   "outputs": [
    {
     "data": {
      "text/plain": [
       "'Margaret Mitchell'"
      ]
     },
     "execution_count": 3,
     "metadata": {},
     "output_type": "execute_result"
    }
   ],
   "source": [
    "book1.Author"
   ]
  },
  {
   "cell_type": "code",
   "execution_count": 4,
   "id": "ea80389b",
   "metadata": {},
   "outputs": [],
   "source": [
    "book1.check_out()"
   ]
  },
  {
   "cell_type": "code",
   "execution_count": 5,
   "id": "5d1a3c05",
   "metadata": {},
   "outputs": [
    {
     "data": {
      "text/plain": [
       "0"
      ]
     },
     "execution_count": 5,
     "metadata": {},
     "output_type": "execute_result"
    }
   ],
   "source": [
    "book1.Status"
   ]
  },
  {
   "cell_type": "code",
   "execution_count": 6,
   "id": "dc84cb45",
   "metadata": {},
   "outputs": [
    {
     "name": "stdout",
     "output_type": "stream",
     "text": [
      "No in stock.\n"
     ]
    }
   ],
   "source": [
    "book1.check_out()"
   ]
  },
  {
   "cell_type": "code",
   "execution_count": 7,
   "id": "7838777b",
   "metadata": {},
   "outputs": [],
   "source": [
    "book2 = book(Title=\"Algorithm\", Author=\"Sedgewick\", Year=1983)"
   ]
  },
  {
   "cell_type": "code",
   "execution_count": 8,
   "id": "715c66ef",
   "metadata": {},
   "outputs": [],
   "source": [
    "class TreeNode():\n",
    "    def __init__(self, val=0, left=None, right=None):\n",
    "        self.val = val\n",
    "        self.left = left\n",
    "        self.right = right"
   ]
  },
  {
   "cell_type": "code",
   "execution_count": 9,
   "id": "bc4eacf1",
   "metadata": {},
   "outputs": [],
   "source": [
    "node1 = TreeNode(val=1)\n",
    "node2 = TreeNode(val=2)\n",
    "node3 = TreeNode(val=3)\n",
    "node4 = TreeNode(val=4)\n",
    "node5 = TreeNode(val=5)\n"
   ]
  },
  {
   "cell_type": "code",
   "execution_count": 10,
   "id": "0df285ad",
   "metadata": {},
   "outputs": [],
   "source": [
    "node1.left = node2\n",
    "node1.right = node3\n",
    "node2.left = node4\n",
    "node2.right = node5"
   ]
  },
  {
   "cell_type": "code",
   "execution_count": 11,
   "id": "ee455f24",
   "metadata": {},
   "outputs": [],
   "source": [
    "root = node1"
   ]
  },
  {
   "cell_type": "code",
   "execution_count": 12,
   "id": "db165fa0",
   "metadata": {},
   "outputs": [
    {
     "data": {
      "text/plain": [
       "5"
      ]
     },
     "execution_count": 12,
     "metadata": {},
     "output_type": "execute_result"
    }
   ],
   "source": [
    "root.left.right.val"
   ]
  },
  {
   "cell_type": "code",
   "execution_count": 15,
   "id": "a8747627",
   "metadata": {},
   "outputs": [],
   "source": [
    "class ListNode(object):\n",
    "    def __init__(self, val=0, next=None):\n",
    "        self.val = val\n",
    "        self.next = next"
   ]
  },
  {
   "cell_type": "code",
   "execution_count": 16,
   "id": "2d3581d5",
   "metadata": {},
   "outputs": [],
   "source": [
    "node1 = ListNode(val=1)\n",
    "node2 = ListNode(val=2)\n",
    "node3 = ListNode(val=3)"
   ]
  },
  {
   "cell_type": "code",
   "execution_count": 17,
   "id": "a2fd40f0",
   "metadata": {},
   "outputs": [],
   "source": [
    "node1.next = node2\n",
    "node2.next = node3\n",
    "head = node1"
   ]
  },
  {
   "cell_type": "code",
   "execution_count": 18,
   "id": "c88688c9",
   "metadata": {},
   "outputs": [
    {
     "data": {
      "text/plain": [
       "1"
      ]
     },
     "execution_count": 18,
     "metadata": {},
     "output_type": "execute_result"
    }
   ],
   "source": [
    "head.val"
   ]
  },
  {
   "cell_type": "code",
   "execution_count": 19,
   "id": "4660b829",
   "metadata": {},
   "outputs": [
    {
     "data": {
      "text/plain": [
       "3"
      ]
     },
     "execution_count": 19,
     "metadata": {},
     "output_type": "execute_result"
    }
   ],
   "source": [
    "head.next.next.val"
   ]
  },
  {
   "cell_type": "code",
   "execution_count": 20,
   "id": "3f6c7a74",
   "metadata": {},
   "outputs": [
    {
     "ename": "AttributeError",
     "evalue": "'NoneType' object has no attribute 'val'",
     "output_type": "error",
     "traceback": [
      "\u001b[1;31m---------------------------------------------------------------------------\u001b[0m",
      "\u001b[1;31mAttributeError\u001b[0m                            Traceback (most recent call last)",
      "\u001b[1;32m<ipython-input-20-3ef31435539e>\u001b[0m in \u001b[0;36m<module>\u001b[1;34m\u001b[0m\n\u001b[1;32m----> 1\u001b[1;33m \u001b[0mhead\u001b[0m\u001b[1;33m.\u001b[0m\u001b[0mnext\u001b[0m\u001b[1;33m.\u001b[0m\u001b[0mnext\u001b[0m\u001b[1;33m.\u001b[0m\u001b[0mnext\u001b[0m\u001b[1;33m.\u001b[0m\u001b[0mval\u001b[0m\u001b[1;33m\u001b[0m\u001b[1;33m\u001b[0m\u001b[0m\n\u001b[0m",
      "\u001b[1;31mAttributeError\u001b[0m: 'NoneType' object has no attribute 'val'"
     ]
    }
   ],
   "source": [
    "head.next.next.next.val"
   ]
  }
 ],
 "metadata": {
  "kernelspec": {
   "display_name": "Python 3",
   "language": "python",
   "name": "python3"
  },
  "language_info": {
   "codemirror_mode": {
    "name": "ipython",
    "version": 3
   },
   "file_extension": ".py",
   "mimetype": "text/x-python",
   "name": "python",
   "nbconvert_exporter": "python",
   "pygments_lexer": "ipython3",
   "version": "3.8.8"
  }
 },
 "nbformat": 4,
 "nbformat_minor": 5
}
